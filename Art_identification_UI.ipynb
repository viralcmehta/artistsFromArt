{
  "nbformat": 4,
  "nbformat_minor": 0,
  "metadata": {
    "colab": {
      "name": "Art_identification_UI",
      "provenance": [],
      "authorship_tag": "ABX9TyMJhqALfqBWdNnnfubjTnPy",
      "include_colab_link": true
    },
    "kernelspec": {
      "name": "python3",
      "display_name": "Python 3"
    },
    "language_info": {
      "name": "python"
    }
  },
  "cells": [
    {
      "cell_type": "markdown",
      "metadata": {
        "id": "view-in-github",
        "colab_type": "text"
      },
      "source": [
        "<a href=\"https://colab.research.google.com/github/viralcmehta/artistsFromArt/blob/main/Art_identification_UI.ipynb\" target=\"_parent\"><img src=\"https://colab.research.google.com/assets/colab-badge.svg\" alt=\"Open In Colab\"/></a>"
      ]
    },
    {
      "cell_type": "code",
      "metadata": {
        "id": "xxcT6z5VIHeX"
      },
      "source": [
        "!pip install -Uqq fastbook\n",
        "import fastbook\n",
        "from fastbook import *\n",
        "from fastai.vision.widgets import *\n",
        "from fastai.vision import *\n",
        "\n",
        "!pip install -qq ipywidgets\n",
        "\n",
        "import ipywidgets as widgets\n",
        "from PIL import Image\n",
        "\n",
        "!pip install voila\n",
        "!jupyter serverextension enable --sys-prefix voila"
      ],
      "execution_count": null,
      "outputs": []
    },
    {
      "cell_type": "code",
      "metadata": {
        "id": "ouqn9AYNIT-_"
      },
      "source": [
        "#setup paths\n",
        "path_base = Path(\"./datasets/artworks/\")\n",
        "path_base.mkdir(parents=True, exist_ok=True)\n",
        "path_git = path_base / 'git'\n",
        "\n"
      ],
      "execution_count": null,
      "outputs": []
    },
    {
      "cell_type": "code",
      "metadata": {
        "id": "LjFiXXGyIbKB"
      },
      "source": [
        "path_model = path_git / \"export2.pkl\"\n",
        "if not path_model.exists()\n",
        "  !git clone https://github.com/viralcmehta/artistsFromArt.git $path_git\n"
      ],
      "execution_count": null,
      "outputs": []
    },
    {
      "cell_type": "code",
      "metadata": {
        "colab": {
          "base_uri": "https://localhost:8080/"
        },
        "id": "i7EmdkB_ZgB3",
        "outputId": "938b9ac8-0e46-453b-992a-4865966e4763"
      },
      "source": [
        "not path_model.exists()"
      ],
      "execution_count": 8,
      "outputs": [
        {
          "output_type": "execute_result",
          "data": {
            "text/plain": [
              "False"
            ]
          },
          "metadata": {
            "tags": []
          },
          "execution_count": 8
        }
      ]
    },
    {
      "cell_type": "code",
      "metadata": {
        "id": "eFcdtmppIp6V"
      },
      "source": [
        "fu = widgets.FileUpload(description=\"Gimme an image\", accept='image/*', multiple=False)\n",
        "\n",
        "defaultImg = Image.new('RGB', size = (256, 256), color = (153,153,153))\n",
        "img = Image.new('RGB', size = (256, 256), color = (153,153,255))\n",
        "img_widget = widgets.Image(value = defaultImg.to_bytes_format(), format = 'png', width=256, height=256)\n",
        "\n",
        "def onFileUpload(value):\n",
        "  global img \n",
        "  img = PILImage.create(fu.data[0])\n",
        "  img_widget.value = fu.data[0]\n",
        "  lbl_pred.value=\"Click classify for answers.\"\n",
        "\n",
        "fu.observe(onFileUpload, names='value')\n",
        "\n",
        "lbl_pred = widgets.Label(value=\"Upload a file.\")\n",
        "\n",
        "learn = load_learner(path_model)\n",
        "\n",
        "def onClassifyClick(_):\n",
        "  #res = learn.predict(img)\n",
        "  pred,pred_idx,probs = learn.predict(img)\n",
        "  lbl_pred.value = f'Prediction: {pred}; Probability: {probs[pred_idx]*100:.00f}%'\n",
        "\n",
        "classify = widgets.Button(description = 'Classify Image')\n",
        "classify.on_click(onClassifyClick)"
      ],
      "execution_count": null,
      "outputs": []
    },
    {
      "cell_type": "code",
      "metadata": {
        "id": "kwhiTPLnI3mx"
      },
      "source": [
        "topBox = widgets.HBox([fu, classify])\n",
        "display(widgets.VBox([topBox, img_widget, lbl_pred]))\n"
      ],
      "execution_count": null,
      "outputs": []
    }
  ]
}