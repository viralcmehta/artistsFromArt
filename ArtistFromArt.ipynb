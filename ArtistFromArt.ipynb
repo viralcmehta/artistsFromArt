{
  "nbformat": 4,
  "nbformat_minor": 0,
  "metadata": {
    "accelerator": "GPU",
    "colab": {
      "name": "ArtistFromArt.ipynb",
      "provenance": [],
      "collapsed_sections": [],
      "toc_visible": true,
      "machine_shape": "hm",
      "include_colab_link": true
    },
    "kernelspec": {
      "display_name": "Python 3",
      "name": "python3"
    },
    "language_info": {
      "name": "python"
    },
    "widgets": {
      "application/vnd.jupyter.widget-state+json": {
        "7fef461031204cdda57c960992ffbc36": {
          "model_module": "@jupyter-widgets/controls",
          "model_name": "VBoxModel",
          "state": {
            "_view_name": "VBoxView",
            "_dom_classes": [],
            "_model_name": "VBoxModel",
            "_view_module": "@jupyter-widgets/controls",
            "_model_module_version": "1.5.0",
            "_view_count": null,
            "_view_module_version": "1.5.0",
            "box_style": "",
            "layout": "IPY_MODEL_bb96f7bffcdf49ab848e4ae73b067ed9",
            "_model_module": "@jupyter-widgets/controls",
            "children": [
              "IPY_MODEL_d49745a82d2d41f2b04e9cb90dbc1a4c",
              "IPY_MODEL_8362a4882cd5466f8bbcffed579ed751",
              "IPY_MODEL_0b1c580976944a5eb86019e8c9165b24"
            ]
          }
        },
        "bb96f7bffcdf49ab848e4ae73b067ed9": {
          "model_module": "@jupyter-widgets/base",
          "model_name": "LayoutModel",
          "state": {
            "_view_name": "LayoutView",
            "grid_template_rows": null,
            "right": null,
            "justify_content": null,
            "_view_module": "@jupyter-widgets/base",
            "overflow": null,
            "_model_module_version": "1.2.0",
            "_view_count": null,
            "flex_flow": null,
            "width": null,
            "min_width": null,
            "border": null,
            "align_items": null,
            "bottom": null,
            "_model_module": "@jupyter-widgets/base",
            "top": null,
            "grid_column": null,
            "overflow_y": null,
            "overflow_x": null,
            "grid_auto_flow": null,
            "grid_area": null,
            "grid_template_columns": null,
            "flex": null,
            "_model_name": "LayoutModel",
            "justify_items": null,
            "grid_row": null,
            "max_height": null,
            "align_content": null,
            "visibility": null,
            "align_self": null,
            "height": null,
            "min_height": null,
            "padding": null,
            "grid_auto_rows": null,
            "grid_gap": null,
            "max_width": null,
            "order": null,
            "_view_module_version": "1.2.0",
            "grid_template_areas": null,
            "object_position": null,
            "object_fit": null,
            "grid_auto_columns": null,
            "margin": null,
            "display": null,
            "left": null
          }
        },
        "d49745a82d2d41f2b04e9cb90dbc1a4c": {
          "model_module": "@jupyter-widgets/controls",
          "model_name": "HBoxModel",
          "state": {
            "_view_name": "HBoxView",
            "_dom_classes": [],
            "_model_name": "HBoxModel",
            "_view_module": "@jupyter-widgets/controls",
            "_model_module_version": "1.5.0",
            "_view_count": null,
            "_view_module_version": "1.5.0",
            "box_style": "",
            "layout": "IPY_MODEL_c5031250b7fa4921a4ccca4adbb6f8ff",
            "_model_module": "@jupyter-widgets/controls",
            "children": [
              "IPY_MODEL_6b1fcf1a4a434a49afcf3cb91a24640f",
              "IPY_MODEL_1243736df0f84448a92455340b071830"
            ]
          }
        },
        "8362a4882cd5466f8bbcffed579ed751": {
          "model_module": "@jupyter-widgets/controls",
          "model_name": "ImageModel",
          "state": {
            "_view_name": "ImageView",
            "_dom_classes": [],
            "_model_name": "ImageModel",
            "format": "png",
            "_view_module": "@jupyter-widgets/controls",
            "_model_module_version": "1.5.0",
            "_view_count": null,
            "width": "256",
            "_view_module_version": "1.5.0",
            "layout": "IPY_MODEL_654cad3603614586ae08b0c250c857e4",
            "height": "256",
            "_model_module": "@jupyter-widgets/controls"
          }
        },
        "0b1c580976944a5eb86019e8c9165b24": {
          "model_module": "@jupyter-widgets/controls",
          "model_name": "LabelModel",
          "state": {
            "_view_name": "LabelView",
            "style": "IPY_MODEL_eee37e1c385c446c9bc4ddc9801c459a",
            "_dom_classes": [],
            "description": "",
            "_model_name": "LabelModel",
            "placeholder": "​",
            "_view_module": "@jupyter-widgets/controls",
            "_model_module_version": "1.5.0",
            "value": "Prediction: Rembrandt; Probability: 100%",
            "_view_count": null,
            "_view_module_version": "1.5.0",
            "description_tooltip": null,
            "_model_module": "@jupyter-widgets/controls",
            "layout": "IPY_MODEL_e541a2d87fc14e629e1826dc4ce9356b"
          }
        },
        "c5031250b7fa4921a4ccca4adbb6f8ff": {
          "model_module": "@jupyter-widgets/base",
          "model_name": "LayoutModel",
          "state": {
            "_view_name": "LayoutView",
            "grid_template_rows": null,
            "right": null,
            "justify_content": null,
            "_view_module": "@jupyter-widgets/base",
            "overflow": null,
            "_model_module_version": "1.2.0",
            "_view_count": null,
            "flex_flow": null,
            "width": null,
            "min_width": null,
            "border": null,
            "align_items": null,
            "bottom": null,
            "_model_module": "@jupyter-widgets/base",
            "top": null,
            "grid_column": null,
            "overflow_y": null,
            "overflow_x": null,
            "grid_auto_flow": null,
            "grid_area": null,
            "grid_template_columns": null,
            "flex": null,
            "_model_name": "LayoutModel",
            "justify_items": null,
            "grid_row": null,
            "max_height": null,
            "align_content": null,
            "visibility": null,
            "align_self": null,
            "height": null,
            "min_height": null,
            "padding": null,
            "grid_auto_rows": null,
            "grid_gap": null,
            "max_width": null,
            "order": null,
            "_view_module_version": "1.2.0",
            "grid_template_areas": null,
            "object_position": null,
            "object_fit": null,
            "grid_auto_columns": null,
            "margin": null,
            "display": null,
            "left": null
          }
        },
        "6b1fcf1a4a434a49afcf3cb91a24640f": {
          "model_module": "@jupyter-widgets/controls",
          "model_name": "FileUploadModel",
          "state": {
            "_view_name": "FileUploadView",
            "_counter": 7,
            "style": "IPY_MODEL_46422aeb26e144cd8887e6e83df39f38",
            "_dom_classes": [],
            "description": "Gimme an image",
            "multiple": false,
            "_model_name": "FileUploadModel",
            "data": [
              null
            ],
            "button_style": "",
            "_view_module": "@jupyter-widgets/controls",
            "_model_module_version": "1.5.0",
            "accept": "image/*",
            "_view_count": null,
            "disabled": false,
            "_view_module_version": "1.5.0",
            "error": "",
            "description_tooltip": null,
            "metadata": [
              {
                "name": "4ba5afd0b3256549c7ac50116c92451f--rembrandt-paintings-art-rembrandt[1].jpg",
                "type": "image/jpeg",
                "size": 58898,
                "lastModified": 1623145524112
              }
            ],
            "_model_module": "@jupyter-widgets/controls",
            "layout": "IPY_MODEL_ed29ba5c04984cf9acbed2fcbdb08882",
            "icon": "upload"
          }
        },
        "1243736df0f84448a92455340b071830": {
          "model_module": "@jupyter-widgets/controls",
          "model_name": "ButtonModel",
          "state": {
            "_view_name": "ButtonView",
            "style": "IPY_MODEL_669afe41920d4cc5ad5c7bbe88fbda95",
            "_dom_classes": [],
            "description": "Classify Image",
            "_model_name": "ButtonModel",
            "button_style": "",
            "_view_module": "@jupyter-widgets/controls",
            "_model_module_version": "1.5.0",
            "tooltip": "",
            "_view_count": null,
            "disabled": false,
            "_view_module_version": "1.5.0",
            "layout": "IPY_MODEL_26d87eb2950243fbaf561408a5b3fe37",
            "_model_module": "@jupyter-widgets/controls",
            "icon": ""
          }
        },
        "654cad3603614586ae08b0c250c857e4": {
          "model_module": "@jupyter-widgets/base",
          "model_name": "LayoutModel",
          "state": {
            "_view_name": "LayoutView",
            "grid_template_rows": null,
            "right": null,
            "justify_content": null,
            "_view_module": "@jupyter-widgets/base",
            "overflow": null,
            "_model_module_version": "1.2.0",
            "_view_count": null,
            "flex_flow": null,
            "width": null,
            "min_width": null,
            "border": null,
            "align_items": null,
            "bottom": null,
            "_model_module": "@jupyter-widgets/base",
            "top": null,
            "grid_column": null,
            "overflow_y": null,
            "overflow_x": null,
            "grid_auto_flow": null,
            "grid_area": null,
            "grid_template_columns": null,
            "flex": null,
            "_model_name": "LayoutModel",
            "justify_items": null,
            "grid_row": null,
            "max_height": null,
            "align_content": null,
            "visibility": null,
            "align_self": null,
            "height": null,
            "min_height": null,
            "padding": null,
            "grid_auto_rows": null,
            "grid_gap": null,
            "max_width": null,
            "order": null,
            "_view_module_version": "1.2.0",
            "grid_template_areas": null,
            "object_position": null,
            "object_fit": null,
            "grid_auto_columns": null,
            "margin": null,
            "display": null,
            "left": null
          }
        },
        "eee37e1c385c446c9bc4ddc9801c459a": {
          "model_module": "@jupyter-widgets/controls",
          "model_name": "DescriptionStyleModel",
          "state": {
            "_view_name": "StyleView",
            "_model_name": "DescriptionStyleModel",
            "description_width": "",
            "_view_module": "@jupyter-widgets/base",
            "_model_module_version": "1.5.0",
            "_view_count": null,
            "_view_module_version": "1.2.0",
            "_model_module": "@jupyter-widgets/controls"
          }
        },
        "e541a2d87fc14e629e1826dc4ce9356b": {
          "model_module": "@jupyter-widgets/base",
          "model_name": "LayoutModel",
          "state": {
            "_view_name": "LayoutView",
            "grid_template_rows": null,
            "right": null,
            "justify_content": null,
            "_view_module": "@jupyter-widgets/base",
            "overflow": null,
            "_model_module_version": "1.2.0",
            "_view_count": null,
            "flex_flow": null,
            "width": null,
            "min_width": null,
            "border": null,
            "align_items": null,
            "bottom": null,
            "_model_module": "@jupyter-widgets/base",
            "top": null,
            "grid_column": null,
            "overflow_y": null,
            "overflow_x": null,
            "grid_auto_flow": null,
            "grid_area": null,
            "grid_template_columns": null,
            "flex": null,
            "_model_name": "LayoutModel",
            "justify_items": null,
            "grid_row": null,
            "max_height": null,
            "align_content": null,
            "visibility": null,
            "align_self": null,
            "height": null,
            "min_height": null,
            "padding": null,
            "grid_auto_rows": null,
            "grid_gap": null,
            "max_width": null,
            "order": null,
            "_view_module_version": "1.2.0",
            "grid_template_areas": null,
            "object_position": null,
            "object_fit": null,
            "grid_auto_columns": null,
            "margin": null,
            "display": null,
            "left": null
          }
        },
        "46422aeb26e144cd8887e6e83df39f38": {
          "model_module": "@jupyter-widgets/controls",
          "model_name": "ButtonStyleModel",
          "state": {
            "_view_name": "StyleView",
            "_model_name": "ButtonStyleModel",
            "_view_module": "@jupyter-widgets/base",
            "_model_module_version": "1.5.0",
            "_view_count": null,
            "button_color": null,
            "font_weight": "",
            "_view_module_version": "1.2.0",
            "_model_module": "@jupyter-widgets/controls"
          }
        },
        "ed29ba5c04984cf9acbed2fcbdb08882": {
          "model_module": "@jupyter-widgets/base",
          "model_name": "LayoutModel",
          "state": {
            "_view_name": "LayoutView",
            "grid_template_rows": null,
            "right": null,
            "justify_content": null,
            "_view_module": "@jupyter-widgets/base",
            "overflow": null,
            "_model_module_version": "1.2.0",
            "_view_count": null,
            "flex_flow": null,
            "width": null,
            "min_width": null,
            "border": null,
            "align_items": null,
            "bottom": null,
            "_model_module": "@jupyter-widgets/base",
            "top": null,
            "grid_column": null,
            "overflow_y": null,
            "overflow_x": null,
            "grid_auto_flow": null,
            "grid_area": null,
            "grid_template_columns": null,
            "flex": null,
            "_model_name": "LayoutModel",
            "justify_items": null,
            "grid_row": null,
            "max_height": null,
            "align_content": null,
            "visibility": null,
            "align_self": null,
            "height": null,
            "min_height": null,
            "padding": null,
            "grid_auto_rows": null,
            "grid_gap": null,
            "max_width": null,
            "order": null,
            "_view_module_version": "1.2.0",
            "grid_template_areas": null,
            "object_position": null,
            "object_fit": null,
            "grid_auto_columns": null,
            "margin": null,
            "display": null,
            "left": null
          }
        },
        "669afe41920d4cc5ad5c7bbe88fbda95": {
          "model_module": "@jupyter-widgets/controls",
          "model_name": "ButtonStyleModel",
          "state": {
            "_view_name": "StyleView",
            "_model_name": "ButtonStyleModel",
            "_view_module": "@jupyter-widgets/base",
            "_model_module_version": "1.5.0",
            "_view_count": null,
            "button_color": null,
            "font_weight": "",
            "_view_module_version": "1.2.0",
            "_model_module": "@jupyter-widgets/controls"
          }
        },
        "26d87eb2950243fbaf561408a5b3fe37": {
          "model_module": "@jupyter-widgets/base",
          "model_name": "LayoutModel",
          "state": {
            "_view_name": "LayoutView",
            "grid_template_rows": null,
            "right": null,
            "justify_content": null,
            "_view_module": "@jupyter-widgets/base",
            "overflow": null,
            "_model_module_version": "1.2.0",
            "_view_count": null,
            "flex_flow": null,
            "width": null,
            "min_width": null,
            "border": null,
            "align_items": null,
            "bottom": null,
            "_model_module": "@jupyter-widgets/base",
            "top": null,
            "grid_column": null,
            "overflow_y": null,
            "overflow_x": null,
            "grid_auto_flow": null,
            "grid_area": null,
            "grid_template_columns": null,
            "flex": null,
            "_model_name": "LayoutModel",
            "justify_items": null,
            "grid_row": null,
            "max_height": null,
            "align_content": null,
            "visibility": null,
            "align_self": null,
            "height": null,
            "min_height": null,
            "padding": null,
            "grid_auto_rows": null,
            "grid_gap": null,
            "max_width": null,
            "order": null,
            "_view_module_version": "1.2.0",
            "grid_template_areas": null,
            "object_position": null,
            "object_fit": null,
            "grid_auto_columns": null,
            "margin": null,
            "display": null,
            "left": null
          }
        }
      }
    }
  },
  "cells": [
    {
      "cell_type": "markdown",
      "metadata": {
        "id": "view-in-github",
        "colab_type": "text"
      },
      "source": [
        "<a href=\"https://colab.research.google.com/github/viralcmehta/artistsFromArt/blob/main/ArtistFromArt.ipynb\" target=\"_parent\"><img src=\"https://colab.research.google.com/assets/colab-badge.svg\" alt=\"Open In Colab\"/></a>"
      ]
    },
    {
      "cell_type": "markdown",
      "metadata": {
        "id": "MgN5SVUUXb0q"
      },
      "source": [
        "# Detect Artist from Art\n",
        "The goal of this project to find an artist from a picture of a art piece. \n"
      ]
    },
    {
      "cell_type": "markdown",
      "metadata": {
        "id": "4Qg3Ri4rDfsk"
      },
      "source": [
        "# New Section"
      ]
    },
    {
      "cell_type": "markdown",
      "metadata": {
        "id": "gweQrFjGYrQQ"
      },
      "source": [
        "## Steps to take\n",
        "1. Download the data from Kaggle\n",
        "1. Understand the data and clean it up a bit\n",
        "1. Perform some data augmentation\n",
        "1. Write down the explicit parameters for my test, validation, and training set\n",
        "1. Use a resnet transform learning to get some initial predictions\n",
        "1. Once it seems to work, then extract the model\n",
        "1. Host it somewhere and access it from my phone\n",
        "1. Show it off\n",
        "\n",
        "\n"
      ]
    },
    {
      "cell_type": "code",
      "metadata": {
        "id": "0KZGlm8laYyh",
        "colab": {
          "base_uri": "https://localhost:8080/"
        },
        "outputId": "173f5524-ff3c-437a-b3fa-3af0ffaa0a43"
      },
      "source": [
        "#Setup imports\n",
        "\n",
        "!pip install -Uqq fastbook\n",
        "import fastbook\n",
        "fastbook.setup_book()\n",
        "\n",
        "from fastbook import *\n",
        "from fastai.vision.widgets import *\n",
        "from google.colab import files\n",
        "from fastai.vision import *\n",
        "\n",
        "!pip install -qq pandas==1.1.0\n",
        "!pip install -qq ipywidgets"
      ],
      "execution_count": 1,
      "outputs": [
        {
          "output_type": "stream",
          "text": [
            "\u001b[K     |████████████████████████████████| 727kB 14.7MB/s \n",
            "\u001b[K     |████████████████████████████████| 204kB 31.2MB/s \n",
            "\u001b[K     |████████████████████████████████| 1.2MB 24.2MB/s \n",
            "\u001b[K     |████████████████████████████████| 51kB 7.3MB/s \n",
            "\u001b[K     |████████████████████████████████| 61kB 9.0MB/s \n",
            "\u001b[K     |████████████████████████████████| 61kB 8.2MB/s \n",
            "\u001b[?25hMounted at /content/gdrive\n",
            "\u001b[K     |████████████████████████████████| 10.5MB 9.8MB/s \n",
            "\u001b[?25h"
          ],
          "name": "stdout"
        }
      ]
    },
    {
      "cell_type": "code",
      "metadata": {
        "id": "Cx9i9uRt6U2f"
      },
      "source": [
        "downloadDataset = False\n",
        "setupKaggle = False\n",
        "retrainModel = False\n",
        "downloadTestSet = False\n",
        "cleanTestSet = False\n",
        "runTestSet = False\n",
        "createUi = True\n",
        "\n",
        "#setup paths\n",
        "path_base = Path(\"/content/datasets/artworks/\")\n",
        "path_img = path_base/ \"images\" / \"images\"\n",
        "path_resized = path_base / \"resized\"\n",
        "path_base.mkdir(parents=True, exist_ok=True)\n",
        "path_test = path_base / \"test\"\n",
        "\n",
        "path_gdrive = Path(\"/content/gdrive/MyDrive/\")\n",
        "path_g_datasets = path_gdrive / \"datasets/\"\n",
        "path_g_artworks = path_g_datasets / \"artworks/\"\n",
        "path_data_zip = path_g_artworks / \"best-artworks-of-all-time.zip\"\n",
        "path_g_artworks_test = path_g_artworks / \"test/\"\n",
        "\n",
        "path_kaggle = Path(\"/root/.kaggle\")\n",
        "path_g_kaggle = path_g_datasets / \".kaggle\"\n"
      ],
      "execution_count": 2,
      "outputs": []
    },
    {
      "cell_type": "code",
      "metadata": {
        "id": "H_m5ae9blCKw"
      },
      "source": [
        "import shutil\n",
        "from distutils.dir_util import copy_tree\n",
        "\n",
        "\n",
        "def _copy(self, dest, dir=False):\n",
        "\n",
        "  if dir:\n",
        "    assert self.is_dir()\n",
        "    if dest.exists():\n",
        "      assert dest.is_dir()\n",
        "    else:\n",
        "      dest.mkdir(parents=True, exist_ok=True) \n",
        "\n",
        "    copy_tree(str(self), str(dest.resolve()))\n",
        "\n",
        "  else:\n",
        "    assert self.is_file()\n",
        "    shutil.copy(self, dest)\n",
        "\n",
        "Path.copy = _copy"
      ],
      "execution_count": 3,
      "outputs": []
    },
    {
      "cell_type": "code",
      "metadata": {
        "id": "VhcLzyW0awNZ"
      },
      "source": [
        "#Set kaggle up\n",
        "if setupKaggle:\n",
        "  !pip install --upgrade -qq kaggle\n",
        "  path_g_kaggle.copy(path_kaggle, dir=True)\n",
        "  (path_kaggle / 'kaggle.json').chmod(0o600)"
      ],
      "execution_count": 4,
      "outputs": []
    },
    {
      "cell_type": "code",
      "metadata": {
        "id": "TqU0Asd2njT6"
      },
      "source": [
        "#Download the Kaggle dataset to gdrive, and unzip it to content folder\n",
        "if downloadDataset:\n",
        "  path_g_artworks.mkdir(parents=True, exist_ok=True)\n",
        "  !kaggle datasets download ikarus777/best-artworks-of-all-time -p $path_g_artworks\n"
      ],
      "execution_count": 5,
      "outputs": []
    },
    {
      "cell_type": "code",
      "metadata": {
        "id": "a7VJ_nswqzy2"
      },
      "source": [
        "if retrainModel:\n",
        "  #Unzip the dataset for use\n",
        "  !unzip -o -q $path_data_zip  -d $path_base\n",
        "\n",
        "  #fix issues with this one artist\n",
        "  !mv $path_img\"/Albrecht_DuтХа├кrer\" $path_img\"/Albrecht_Durer\"\n",
        "  !mv $path_img\"/Albrecht_Du╠Иrer/*\" $path_img\"/Albrecht_Durer\"\n",
        "  !rm -rf $path_img\"/Albrecht_Du╠Иrer\n",
        "\n",
        "  #we don't need resized folder. get rid of it\n",
        "  !rm -rf $path_resized\n",
        "\n",
        "else:\n",
        "  !unzip -j -q -o $path_data_zip 'artists.csv' -d $path_base \n"
      ],
      "execution_count": 6,
      "outputs": []
    },
    {
      "cell_type": "code",
      "metadata": {
        "id": "K4h4S-V-CTGc"
      },
      "source": [
        "import pandas as pd\n",
        "dfo = pd.read_csv(path_base / \"artists.csv\")"
      ],
      "execution_count": 7,
      "outputs": []
    },
    {
      "cell_type": "code",
      "metadata": {
        "id": "FR9fISYKDBNV"
      },
      "source": [
        "df = dfo[[\"name\", \"paintings\"]].sort_values(\"paintings\", ascending=False)\n",
        "df = df[df[\"paintings\"] > 200]\n",
        "df[\"name\"] = df[\"name\"].replace(['Albrecht Dürer'], 'Albrecht Durer')\n",
        "df[\"fname\"]= df[\"name\"].str.replace(\" \", \"_\")\n"
      ],
      "execution_count": 8,
      "outputs": []
    },
    {
      "cell_type": "code",
      "metadata": {
        "id": "20I6trs9GPC1",
        "colab": {
          "base_uri": "https://localhost:8080/",
          "height": 388
        },
        "outputId": "bc24f6e9-869d-4398-b429-467018c818a2"
      },
      "source": [
        "df"
      ],
      "execution_count": 9,
      "outputs": [
        {
          "output_type": "execute_result",
          "data": {
            "text/html": [
              "<div>\n",
              "<style scoped>\n",
              "    .dataframe tbody tr th:only-of-type {\n",
              "        vertical-align: middle;\n",
              "    }\n",
              "\n",
              "    .dataframe tbody tr th {\n",
              "        vertical-align: top;\n",
              "    }\n",
              "\n",
              "    .dataframe thead th {\n",
              "        text-align: right;\n",
              "    }\n",
              "</style>\n",
              "<table border=\"1\" class=\"dataframe\">\n",
              "  <thead>\n",
              "    <tr style=\"text-align: right;\">\n",
              "      <th></th>\n",
              "      <th>name</th>\n",
              "      <th>paintings</th>\n",
              "      <th>fname</th>\n",
              "    </tr>\n",
              "  </thead>\n",
              "  <tbody>\n",
              "    <tr>\n",
              "      <th>8</th>\n",
              "      <td>Vincent van Gogh</td>\n",
              "      <td>877</td>\n",
              "      <td>Vincent_van_Gogh</td>\n",
              "    </tr>\n",
              "    <tr>\n",
              "      <th>30</th>\n",
              "      <td>Edgar Degas</td>\n",
              "      <td>702</td>\n",
              "      <td>Edgar_Degas</td>\n",
              "    </tr>\n",
              "    <tr>\n",
              "      <th>13</th>\n",
              "      <td>Pablo Picasso</td>\n",
              "      <td>439</td>\n",
              "      <td>Pablo_Picasso</td>\n",
              "    </tr>\n",
              "    <tr>\n",
              "      <th>15</th>\n",
              "      <td>Pierre-Auguste Renoir</td>\n",
              "      <td>336</td>\n",
              "      <td>Pierre-Auguste_Renoir</td>\n",
              "    </tr>\n",
              "    <tr>\n",
              "      <th>19</th>\n",
              "      <td>Albrecht Durer</td>\n",
              "      <td>328</td>\n",
              "      <td>Albrecht_Durer</td>\n",
              "    </tr>\n",
              "    <tr>\n",
              "      <th>46</th>\n",
              "      <td>Paul Gauguin</td>\n",
              "      <td>311</td>\n",
              "      <td>Paul_Gauguin</td>\n",
              "    </tr>\n",
              "    <tr>\n",
              "      <th>16</th>\n",
              "      <td>Francisco Goya</td>\n",
              "      <td>291</td>\n",
              "      <td>Francisco_Goya</td>\n",
              "    </tr>\n",
              "    <tr>\n",
              "      <th>31</th>\n",
              "      <td>Rembrandt</td>\n",
              "      <td>262</td>\n",
              "      <td>Rembrandt</td>\n",
              "    </tr>\n",
              "    <tr>\n",
              "      <th>20</th>\n",
              "      <td>Alfred Sisley</td>\n",
              "      <td>259</td>\n",
              "      <td>Alfred_Sisley</td>\n",
              "    </tr>\n",
              "    <tr>\n",
              "      <th>32</th>\n",
              "      <td>Titian</td>\n",
              "      <td>255</td>\n",
              "      <td>Titian</td>\n",
              "    </tr>\n",
              "    <tr>\n",
              "      <th>22</th>\n",
              "      <td>Marc Chagall</td>\n",
              "      <td>239</td>\n",
              "      <td>Marc_Chagall</td>\n",
              "    </tr>\n",
              "  </tbody>\n",
              "</table>\n",
              "</div>"
            ],
            "text/plain": [
              "                     name  paintings                  fname\n",
              "8        Vincent van Gogh        877       Vincent_van_Gogh\n",
              "30            Edgar Degas        702            Edgar_Degas\n",
              "13          Pablo Picasso        439          Pablo_Picasso\n",
              "15  Pierre-Auguste Renoir        336  Pierre-Auguste_Renoir\n",
              "19         Albrecht Durer        328         Albrecht_Durer\n",
              "46           Paul Gauguin        311           Paul_Gauguin\n",
              "16         Francisco Goya        291         Francisco_Goya\n",
              "31              Rembrandt        262              Rembrandt\n",
              "20          Alfred Sisley        259          Alfred_Sisley\n",
              "32                 Titian        255                 Titian\n",
              "22           Marc Chagall        239           Marc_Chagall"
            ]
          },
          "metadata": {
            "tags": []
          },
          "execution_count": 9
        }
      ]
    },
    {
      "cell_type": "code",
      "metadata": {
        "id": "G81ud7oW_jJJ"
      },
      "source": [
        "if retrainModel:\n",
        "  #Data visualization\n",
        "  im = Image.open(path_img / \"Vincent_van_Gogh/Vincent_van_Gogh_167.jpg\")\n",
        "  display(im.to_thumb(256))"
      ],
      "execution_count": 10,
      "outputs": []
    },
    {
      "cell_type": "code",
      "metadata": {
        "id": "Ohs8-pHotYFl"
      },
      "source": [
        "if retrainModel:\n",
        "  #Check if the image files are correct and clean\n",
        "  fns = get_image_files(path_img)\n",
        "  failed = verify_images(fns)\n",
        "  failed.map(Path.unlink)"
      ],
      "execution_count": 11,
      "outputs": []
    },
    {
      "cell_type": "code",
      "metadata": {
        "id": "Mh84gKbHP0dV"
      },
      "source": [
        "if retrainModel:\n",
        "  artistlist = [path_img / fn for fn in df[\"fname\"]]\n",
        "  flist = [get_image_files(pth) for pth in artistlist]\n",
        "  flist_flat = []\n",
        "  for artist in flist:\n",
        "    flist_flat.extend(artist)\n",
        "  "
      ],
      "execution_count": 12,
      "outputs": []
    },
    {
      "cell_type": "code",
      "metadata": {
        "id": "frWZLFPkHHVE"
      },
      "source": [
        "if retrainModel:\n",
        "  art = DataBlock(\n",
        "    blocks = (ImageBlock, CategoryBlock),\n",
        "    splitter=RandomSplitter(valid_pct=0.2, seed=353),\n",
        "    get_y = parent_label,\n",
        "    item_tfms=RandomResizedCrop(256, min_scale=0.8), batch_tfms=aug_transforms(mult=2))\n",
        "  \n"
      ],
      "execution_count": 13,
      "outputs": []
    },
    {
      "cell_type": "code",
      "metadata": {
        "id": "H_eCO4NLQLZB"
      },
      "source": [
        "if retrainModel:\n",
        "  dls = art.dataloaders(flist_flat)\n",
        "  dls.train.show_batch(max_n=8, nrows=2, unique=True)"
      ],
      "execution_count": 14,
      "outputs": []
    },
    {
      "cell_type": "code",
      "metadata": {
        "id": "fb--qMpmIEqG"
      },
      "source": [
        "if retrainModel:\n",
        "  learn = cnn_learner(dls, resnet50, metrics=error_rate)\n",
        "  learn.fine_tune(20)"
      ],
      "execution_count": 15,
      "outputs": []
    },
    {
      "cell_type": "code",
      "metadata": {
        "id": "7Qv6i8i70lY2"
      },
      "source": [
        "if retrainModel:\n",
        "  learn.export()\n",
        "  !cp export.pkl /content/gdrive/MyDrive/datasets/artworks/export2.pkl"
      ],
      "execution_count": 16,
      "outputs": []
    },
    {
      "cell_type": "code",
      "metadata": {
        "id": "FBeKeOEHK4ug"
      },
      "source": [
        "if retrainModel:\n",
        "  interp = ClassificationInterpretation.from_learner(learn)\n",
        "  interp.plot_confusion_matrix()"
      ],
      "execution_count": 17,
      "outputs": []
    },
    {
      "cell_type": "code",
      "metadata": {
        "id": "00_Ze6hjWZ9Z"
      },
      "source": [
        "if retrainModel:\n",
        "  interp.plot_top_losses(9, nrows=9)"
      ],
      "execution_count": 18,
      "outputs": []
    },
    {
      "cell_type": "code",
      "metadata": {
        "id": "liC4O03f6DFi"
      },
      "source": [
        "if not retrainModel:\n",
        "  path_model = path_g_artworks / \"export2.pkl\"\n",
        "  learn = load_learner(path_model)"
      ],
      "execution_count": 19,
      "outputs": []
    },
    {
      "cell_type": "code",
      "metadata": {
        "id": "zioG9Ed54szN"
      },
      "source": [
        "if runTestSet:\n",
        "  #Create a test set from bing image search\n",
        "  if downloadTestSet:\n",
        "    keyFile = (path_g_datasets / \"BingKey.txt\").open()\n",
        "    BingKey = keyFile.read()\n",
        "    keyFile.close()\n",
        "\n",
        "    artist_search_terms = df[\"name\"].tolist()\n",
        "    artist_fnames = df[\"fname\"].tolist()\n",
        "\n",
        "    #path_testset = Path(path_g_artworks_test)\n",
        "\n",
        "    for search, fname in zip(artist_search_terms, artist_fnames):\n",
        "      results = search_images_bing(BingKey, f'{search} original paintings', max_images=30)\n",
        "      dest = path_g_artworks_test / fname\n",
        "      dest.mkdir(exist_ok=True, parents=True)\n",
        "      download_images(f'{dest}/', urls=results.attrgot('contentUrl'))\n",
        "\n",
        "  if downloadTestSet or cleanTestSet:\n",
        "    #get rid of all files that are not openable images\n",
        "    import glob\n",
        "    import numpy as np\n",
        "    imgs = get_image_files(path_g_artworks_test)\n",
        "    imgs = [str(img) for img in imgs]\n",
        "\n",
        "    allf = glob.glob(f'{path_g_artworks_test}/**/*')\n",
        "    allf.sort()\n",
        "\n",
        "    failed = list(np.setdiff1d(allf, imgs, assume_unique=True))\n",
        "    failed = L([Path(fn) for fn in failed])\n",
        "    print(failed)\n",
        "\n",
        "    def remFile(pth):\n",
        "      print(f'Deleting {pth}')\n",
        "      pth.unlink()\n",
        "      return pth.exists()\n",
        "\n",
        "    #Check if the image files are correct, clean, and openable            \n",
        "    fns = get_image_files(path_g_artworks_test)\n",
        "    failed.extend(verify_images(fns))\n",
        "    failed.map(remFile)\n",
        "\n",
        "  !rm -rf $path_test\n",
        "  #!cp -r $path_g_artworks_test $path_base\n",
        "  path_g_artworks_test.copy(path_test, dir=True)\n",
        "\n"
      ],
      "execution_count": 20,
      "outputs": []
    },
    {
      "cell_type": "code",
      "metadata": {
        "id": "7kMIv--QTTVR"
      },
      "source": [
        "if runTestSet:\n",
        "  from tqdm.notebook import tqdm\n",
        "  imgs = get_image_files(path_test)\n",
        "\n",
        "  results = []\n",
        "\n",
        "  with tqdm(total=len(imgs)) as pbar:\n",
        "    for img in imgs:\n",
        "      res = learn.predict(img) \n",
        "      results.append((parent_label(img),) + res + (str(img),))\n",
        "      pbar.update()\n",
        "\n"
      ],
      "execution_count": 21,
      "outputs": []
    },
    {
      "cell_type": "code",
      "metadata": {
        "id": "gbe9IlDte5Q9"
      },
      "source": [
        "if runTestSet:\n",
        "  #now we have results from the test set. Lets hope it does well. and if it doesn't lets look at the results\n",
        "  missed = []\n",
        "  i = 0\n",
        "  for res in results:\n",
        "    if res[0] != res[1]:\n",
        "      #this was a bad prediction. lets stare at this\n",
        "      missed.append((i, res[0], res[1], res[-1])) \n",
        "      i=i+1\n",
        "\n"
      ],
      "execution_count": 22,
      "outputs": []
    },
    {
      "cell_type": "code",
      "metadata": {
        "id": "8-vGiR_yyD8w"
      },
      "source": [
        "if runTestSet:\n",
        "  #Lets analyze the missed\n",
        "  print(f\"{len(missed)}/{len(results)} : {100*len(missed)/len(results)}% failure\")\n",
        "\n",
        "  import matplotlib.pyplot as plt\n",
        "  %matplotlib inline\n",
        "  plt.rcParams.update({'figure.max_open_warning': 0})\n",
        "\n",
        "  missed_imgs = [(i, act, pred, pth, Image.open(pth)) for i, act, pred, pth in missed]\n",
        "\n",
        "  for i, act, pred, pth, img in missed_imgs:\n",
        "    #print(f\"{i}, {act}, {pred}, {imgpth}\")\n",
        "    #plt.subplot(45, 2, i+1)\n",
        "    plt.figure()\n",
        "    plt.imshow(img)\n",
        "    plt.title(f'{act}/{pred}/{Path(pth).name}')\n"
      ],
      "execution_count": 23,
      "outputs": []
    },
    {
      "cell_type": "code",
      "metadata": {
        "id": "sTubbcfbTNf1"
      },
      "source": [
        "if createUi:\n",
        "  import ipywidgets as widgets\n",
        "  from PIL import Image\n",
        "\n",
        "  fu = widgets.FileUpload(description=\"Gimme an image\", accept='image/*', multiple=False)\n",
        "\n",
        "  defaultImg = Image.new('RGB', size = (256, 256), color = (153,153,153))\n",
        "  img = Image.new('RGB', size = (256, 256), color = (153,153,255))\n",
        "  img_widget = widgets.Image(value = defaultImg.to_bytes_format(), format = 'png', width=256, height=256)\n",
        "\n",
        "  def onFileUpload(value):\n",
        "    global img \n",
        "    img = PILImage.create(fu.data[0])\n",
        "    img_widget.value = fu.data[0]\n",
        "    lbl_pred.value=\"Click classify for answers.\"\n",
        "\n",
        "  fu.observe(onFileUpload, names='value')\n",
        "\n",
        "  lbl_pred = widgets.Label(value=\"Upload a file.\")\n",
        "\n",
        "  path_model = path_g_artworks / \"export2.pkl\"\n",
        "  learn = load_learner(path_model)\n",
        "\n",
        "  def onClassifyClick(_):\n",
        "    #res = learn.predict(img)\n",
        "    pred,pred_idx,probs = learn.predict(img)\n",
        "    lbl_pred.value = f'Prediction: {pred}; Probability: {probs[pred_idx]*100:.00f}%'\n",
        "\n",
        "  classify = widgets.Button(description = 'Classify Image')\n",
        "  classify.on_click(onClassifyClick)\n"
      ],
      "execution_count": 57,
      "outputs": []
    },
    {
      "cell_type": "code",
      "metadata": {
        "colab": {
          "base_uri": "https://localhost:8080/",
          "height": 277,
          "referenced_widgets": [
            "7fef461031204cdda57c960992ffbc36",
            "bb96f7bffcdf49ab848e4ae73b067ed9",
            "d49745a82d2d41f2b04e9cb90dbc1a4c",
            "8362a4882cd5466f8bbcffed579ed751",
            "0b1c580976944a5eb86019e8c9165b24",
            "c5031250b7fa4921a4ccca4adbb6f8ff",
            "6b1fcf1a4a434a49afcf3cb91a24640f",
            "1243736df0f84448a92455340b071830",
            "654cad3603614586ae08b0c250c857e4",
            "eee37e1c385c446c9bc4ddc9801c459a",
            "e541a2d87fc14e629e1826dc4ce9356b",
            "46422aeb26e144cd8887e6e83df39f38",
            "ed29ba5c04984cf9acbed2fcbdb08882",
            "669afe41920d4cc5ad5c7bbe88fbda95",
            "26d87eb2950243fbaf561408a5b3fe37"
          ]
        },
        "id": "BF-WZ8KxUojg",
        "outputId": "02bef4b9-3c04-4d4c-ea46-b7a69eb61b14"
      },
      "source": [
        "if createUi:\n",
        "  topBox = widgets.HBox([fu, classify])\n",
        "  display(widgets.VBox([topBox, img_widget, lbl_pred]))\n"
      ],
      "execution_count": 58,
      "outputs": [
        {
          "output_type": "display_data",
          "data": {
            "application/vnd.jupyter.widget-view+json": {
              "model_id": "7fef461031204cdda57c960992ffbc36",
              "version_minor": 0,
              "version_major": 2
            },
            "text/plain": [
              "VBox(children=(HBox(children=(FileUpload(value={}, accept='image/*', description='Gimme an image'), Button(des…"
            ]
          },
          "metadata": {
            "tags": []
          }
        },
        {
          "output_type": "display_data",
          "data": {
            "text/html": [
              ""
            ],
            "text/plain": [
              "<IPython.core.display.HTML object>"
            ]
          },
          "metadata": {
            "tags": []
          }
        },
        {
          "output_type": "display_data",
          "data": {
            "text/html": [
              ""
            ],
            "text/plain": [
              "<IPython.core.display.HTML object>"
            ]
          },
          "metadata": {
            "tags": []
          }
        },
        {
          "output_type": "display_data",
          "data": {
            "text/html": [
              ""
            ],
            "text/plain": [
              "<IPython.core.display.HTML object>"
            ]
          },
          "metadata": {
            "tags": []
          }
        },
        {
          "output_type": "display_data",
          "data": {
            "text/html": [
              ""
            ],
            "text/plain": [
              "<IPython.core.display.HTML object>"
            ]
          },
          "metadata": {
            "tags": []
          }
        },
        {
          "output_type": "display_data",
          "data": {
            "text/html": [
              ""
            ],
            "text/plain": [
              "<IPython.core.display.HTML object>"
            ]
          },
          "metadata": {
            "tags": []
          }
        },
        {
          "output_type": "display_data",
          "data": {
            "text/html": [
              ""
            ],
            "text/plain": [
              "<IPython.core.display.HTML object>"
            ]
          },
          "metadata": {
            "tags": []
          }
        },
        {
          "output_type": "display_data",
          "data": {
            "text/html": [
              ""
            ],
            "text/plain": [
              "<IPython.core.display.HTML object>"
            ]
          },
          "metadata": {
            "tags": []
          }
        }
      ]
    }
  ]
}